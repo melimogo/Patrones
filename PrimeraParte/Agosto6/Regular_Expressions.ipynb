{
 "cells": [
  {
   "cell_type": "markdown",
   "metadata": {},
   "source": [
    "<center>\n",
    "<a href=\"http://www.udem.edu.co/\"><img src=\"Escudo.png\"></a>\n",
    "<h1>Reconocimiento de Patrones I</h1>\n",
    "<h3>2018-2</h3>\n",
    "</center>"
   ]
  },
  {
   "cell_type": "markdown",
   "metadata": {},
   "source": [
    "## Expresiones Regulares y fundamentos de Procesamiento de lenguaje natural"
   ]
  },
  {
   "cell_type": "markdown",
   "metadata": {},
   "source": [
    "### Sabes qué es ELIZA?\n",
    "\n",
    "Fue el primer chatbot, creado en el noventa, solo implementaba expresiones regulares. \n",
    "\n",
    "Es un sistema de procesamiento de lenguaje natural antiguo; se puede considerar el primero chatbot de la historia.\n",
    "\n",
    "Pues bien, este sistema trabaja reconociendo cadenas de texto y emitiendo respuestas simples basadas en dicho reconocimiento.\n",
    "Esta tarea se puede hacer posible, gracias a las expresiones regulares, que son una potente herramienta (lenguaje) para especificar búsquedas de cadenas de texto (Jurafsky, D., Martin, J., Speech and Language Processing)."
   ]
  },
  {
   "cell_type": "markdown",
   "metadata": {},
   "source": [
    "## Conceptos básicos de procesamiento de lenguaje natural"
   ]
  },
  {
   "cell_type": "markdown",
   "metadata": {},
   "source": [
    "### Tokenización: \n",
    "Darle formato a un texto en el que cada unidad léxica (palabra o signo de puntuación) se ubique en una nueva línea.\n",
    "* Poner una palabra en una linea diferente: palabra, puntuaciones.\n",
    "\n",
    "### Lematización:\n",
    "\n",
    "Determinar si dos o más palabras tienen la misma raíz, a pesar de ser distintas. Ej: sang, sung and sings, son formas del verbo sing. Por lo tanto, la palabra sing es el lema común de estas tres palabras.\n",
    "* llevar las palabra a su raiz. \n",
    "* Tiempos de los verbos\n",
    "\n",
    "### Stemming:\n",
    "\n",
    "Es una versión simple de la lematización, en la cuál, principalmente, se identifican y se separan los sufijos al final de las palabras.\n",
    "* identificar sufijos en las palabras.\n",
    "\n",
    "### Sentense segmentation: \n",
    "\n",
    "Dividir un texto por oraciones.\n",
    "* corpus linguistico\n",
    "\n",
    "### Distancia de edición:\n",
    "\n",
    "Medida que permite saber que tan similares son dos cadenas de texto, con base en el número de inserciones, sustituciones y eliminaciones de caracteres se deben llevar a cabo para convertir una cadena en la otra.\n",
    "* Es el q te dice usted quizo escribir esto '...'\n",
    "* que tan lejos o cerca esta una pablabra en terminos de incersiones \n"
   ]
  },
  {
   "cell_type": "markdown",
   "metadata": {},
   "source": [
    "Muchas tareas de preprocesamiento de datos que se requieren para ejecutar el reconocimiento de patrones en textos,\n",
    "se pueden llevar a cabo de manera fácil y eficiente si se manejan correctamente las expresiones regulares. Es por\n",
    "esto que vamos a ver en detalle la sintaxis de estas expresiones y múltiples ejemplos de uso, tanto en editores de texto\n",
    "como dentro de Python."
   ]
  },
  {
   "cell_type": "markdown",
   "metadata": {},
   "source": [
    "# Las expresiones regulares como lenguaje"
   ]
  },
  {
   "cell_type": "markdown",
   "metadata": {},
   "source": [
    "<h2 id=\"Componentes-de-las-Expresiones-Regulares\">Componentes de las Expresiones Regulares<a class=\"anchor-link\" href=\"#Componentes-de-las-Expresiones-Regulares\">&#182;</a></h2><p>Las <a href=\"https://es.wikipedia.org/wiki/Expresi%C3%B3n_regular\">expresiones regulares</a> son un mini lenguaje en sí mismo, por lo que para poder utilizarlas eficientemente primero debemos entender los componentes de su sintaxis; ellos son:</p>\n",
    "<ul>\n",
    "<li><p><strong>Literales</strong>: Cualquier caracter se encuentra a sí mismo, a menos que se trate de un <strong><em>metacaracter</em></strong> con significado especial. Una serie de caracteres encuentra esa misma serie en el texto de entrada, por lo tanto la plantilla \"raul\" encontrará todas las apariciones de \"raul\" en el texto que procesamos.</p>\n",
    "</li>\n",
    "<li><p><strong>Secuencias de escape</strong>: La sintaxis de las <a href=\"https://es.wikipedia.org/wiki/Expresi%C3%B3n_regular\">expresiones regulares</a> nos permite utilizar las <em><a href=\"https://msdn.microsoft.com/es-es/library/h21280bw.aspx\">secuencias de escape</a></em> que ya conocemos de otros lenguajes de programación para esos casos especiales como ser finales de línea, tabs, barras diagonales, etc. Las principales <em><a href=\"https://msdn.microsoft.com/es-es/library/h21280bw.aspx\">secuencias de escape</a></em> que podemos encontrar, son:</p>\n",
    "</li>\n",
    "</ul>\n",
    "<table>\n",
    "<thead><tr>\n",
    "<th>Secuencia de escape</th>\n",
    "<th>Significado</th>\n",
    "</tr>\n",
    "</thead>\n",
    "<tbody>\n",
    "<tr>\n",
    "<td>\\n</td>\n",
    "<td>Nueva línea (new line). El cursor pasa a la primera posición de la línea siguiente.</td>\n",
    "</tr>\n",
    "<tr>\n",
    "<td>\\t</td>\n",
    "<td>Tabulador. El cursor pasa a la siguiente posición de tabulación. </td>\n",
    "</tr>\n",
    "<tr>\n",
    "<td>\\\\</td>\n",
    "<td>Barra diagonal inversa</td>\n",
    "</tr>\n",
    "<tr>\n",
    "<td>\\v</td>\n",
    "<td>Tabulación vertical.</td>\n",
    "</tr>\n",
    "<tr>\n",
    "<td>\\ooo</td>\n",
    "<td>Carácter ASCII en notación octal.</td>\n",
    "</tr>\n",
    "<tr>\n",
    "<td>\\xhh</td>\n",
    "<td>Carácter ASCII en notación hexadecimal.</td>\n",
    "</tr>\n",
    "<tr>\n",
    "<td>\\xhhhh</td>\n",
    "<td>Carácter Unicode en notación hexadecimal. </td>\n",
    "</tr>\n",
    "</tbody>\n",
    "</table>\n",
    "<ul>\n",
    "<li><p><strong>Clases de caracteres</strong>: Se pueden especificar clases de caracteres encerrando una lista de caracteres entre corchetes [], la que que encontrará uno cualquiera de los caracteres de la lista. Si el primer símbolo después del \"[\" es \"^\", la clase encuentra cualquier caracter que no está en la lista.</p>\n",
    "</li>\n",
    "<li><p><strong>Metacaracteres</strong>: Los metacaracteres son caracteres especiales que son la esencia de las <a href=\"https://es.wikipedia.org/wiki/Expresi%C3%B3n_regular\">expresiones regulares</a>. Como son sumamente importantes para entender la sintaxis de las <a href=\"https://es.wikipedia.org/wiki/Expresi%C3%B3n_regular\">expresiones regulares</a> y existen diferentes tipos, voy a dedicar una sección a explicarlos un poco más en detalle.</p>\n",
    "</li>\n",
    "</ul>\n",
    "\n",
    "</div>\n",
    "</div>\n",
    "</div>\n",
    "<div class=\"cell border-box-sizing text_cell rendered\"><div class=\"prompt input_prompt\">\n",
    "</div>\n",
    "<div class=\"inner_cell\">\n",
    "<div class=\"text_cell_render border-box-sizing rendered_html\">\n",
    "<h2 id=\"Metacaracteres\">Metacaracteres<a class=\"anchor-link\" href=\"#Metacaracteres\">&#182;</a></h2><h3 id=\"Metacaracteres---delimitadores\">Metacaracteres - delimitadores<a class=\"anchor-link\" href=\"#Metacaracteres---delimitadores\">&#182;</a></h3><p>Esta clase de metacaracteres nos permite delimitar dónde queremos buscar los patrones de búsqueda. Ellos son:</p>\n",
    "<table>\n",
    "<thead><tr>\n",
    "<th>Metacaracter</th>\n",
    "<th>Descripción</th>\n",
    "</tr>\n",
    "</thead>\n",
    "<tbody>\n",
    "<tr>\n",
    "<td>^</td>\n",
    "<td>inicio de línea. </td>\n",
    "</tr>\n",
    "<tr>\n",
    "<td>$</td>\n",
    "<td>fin de línea. </td>\n",
    "</tr>\n",
    "<tr>\n",
    "<td>\\A</td>\n",
    "<td>inicio de texto. </td>\n",
    "</tr>\n",
    "<tr>\n",
    "<td>\\Z</td>\n",
    "<td>fin de texto. </td>\n",
    "</tr>\n",
    "<tr>\n",
    "<td>.</td>\n",
    "<td>cualquier caracter en la línea. </td>\n",
    "</tr>\n",
    "<tr>\n",
    "<td>\\b</td>\n",
    "<td>encuentra límite de palabra. </td>\n",
    "</tr>\n",
    "<tr>\n",
    "<td>\\B</td>\n",
    "<td>encuentra distinto a límite de palabra.</td>\n",
    "</tr>\n",
    "</tbody>\n",
    "</table>\n",
    "<h3 id=\"Metacaracteres---clases-predefinidas\">Metacaracteres - clases predefinidas<a class=\"anchor-link\" href=\"#Metacaracteres---clases-predefinidas\">&#182;</a></h3><p>Estas son clases predefinidas que nos facilitan la utilización de las <a href=\"https://es.wikipedia.org/wiki/Expresi%C3%B3n_regular\">expresiones regulares</a>. Ellos son:</p>\n",
    "<table>\n",
    "<thead><tr>\n",
    "<th>Metacaracter</th>\n",
    "<th>Descripción</th>\n",
    "</tr>\n",
    "</thead>\n",
    "<tbody>\n",
    "<tr>\n",
    "<td>\\w</td>\n",
    "<td>un caracter alfanumérico (incluye \"_\"). </td>\n",
    "</tr>\n",
    "<tr>\n",
    "<td>\\W</td>\n",
    "<td>un caracter no alfanumérico. </td>\n",
    "</tr>\n",
    "<tr>\n",
    "<td>\\d</td>\n",
    "<td>un caracter numérico. </td>\n",
    "</tr>\n",
    "<tr>\n",
    "<td>\\D</td>\n",
    "<td>un caracter no numérico. </td>\n",
    "</tr>\n",
    "<tr>\n",
    "<td>\\s</td>\n",
    "<td>cualquier espacio (lo mismo que [ \\t\\n\\r\\f]).</td>\n",
    "</tr>\n",
    "<tr>\n",
    "<td>\\S</td>\n",
    "<td>un no espacio.</td>\n",
    "</tr>\n",
    "</tbody>\n",
    "</table>\n",
    "<h3 id=\"Metacaracteres---iteradores\">Metacaracteres - iteradores<a class=\"anchor-link\" href=\"#Metacaracteres---iteradores\">&#182;</a></h3><p>Cualquier elemento de una <a href=\"https://es.wikipedia.org/wiki/Expresi%C3%B3n_regular\">expresion regular</a> puede ser seguido por otro tipo de metacaracteres, los <em>iteradores</em>. Usando estos metacaracteres se puede especificar el número de ocurrencias del caracter previo, de un metacaracter o de una subexpresión. Ellos son:</p>\n",
    "<table>\n",
    "<thead><tr>\n",
    "<th>Metacaracter</th>\n",
    "<th>Descripción</th>\n",
    "</tr>\n",
    "</thead>\n",
    "<tbody>\n",
    "<tr>\n",
    "<td>*</td>\n",
    "<td>cero o más, similar a {0,}. </td>\n",
    "</tr>\n",
    "<tr>\n",
    "<td>+</td>\n",
    "<td>una o más, similar a {1,}. </td>\n",
    "</tr>\n",
    "<tr>\n",
    "<td>?</td>\n",
    "<td>cero o una, similar a {0,1}.</td>\n",
    "</tr>\n",
    "<tr>\n",
    "<td>{n}</td>\n",
    "<td>exactamente n veces. </td>\n",
    "</tr>\n",
    "<tr>\n",
    "<td>{n,}</td>\n",
    "<td>por lo menos n veces. </td>\n",
    "</tr>\n",
    "<tr>\n",
    "<td>{n,m}</td>\n",
    "<td>por lo menos n pero no más de m veces.</td>\n",
    "</tr>\n",
    "<tr>\n",
    "<td>*?</td>\n",
    "<td>cero o más, similar a {0,}?. </td>\n",
    "</tr>\n",
    "<tr>\n",
    "<td>+?</td>\n",
    "<td>una o más, similar a {1,}?.</td>\n",
    "</tr>\n",
    "<tr>\n",
    "<td>??</td>\n",
    "<td>cero o una, similar a {0,1}?. </td>\n",
    "</tr>\n",
    "<tr>\n",
    "<td>{n}?</td>\n",
    "<td>exactamente n veces.</td>\n",
    "</tr>\n",
    "<tr>\n",
    "<td>{n,}?</td>\n",
    "<td>por lo menos n veces. </td>\n",
    "</tr>\n",
    "<tr>\n",
    "<td>{n,m}?</td>\n",
    "<td>por lo menos n pero no más de m veces.</td>\n",
    "</tr>\n",
    "</tbody>\n",
    "</table>\n",
    "<p>En estos metacaracteres, los dígitos entre llaves de la forma {n,m}, especifican el mínimo número de ocurrencias en n y el máximo en m.</p>\n",
    "<h3 id=\"Metacaracteres---alternativas\">Metacaracteres - alternativas<a class=\"anchor-link\" href=\"#Metacaracteres---alternativas\">&#182;</a></h3><p>Se puede especificar una serie de alternativas para una plantilla usando \"|\" para separarlas, entonces do|re|mi encontrará cualquier \"do\", \"re\", o \"mi\" en el texto de entrada.Las alternativas son evaluadas de izquierda a derecha, por lo tanto la primera alternativa que coincide plenamente con la expresión analizada es la que se selecciona. Por ejemplo: si se buscan foo|foot en \"barefoot'', sólo la parte \"foo\" da resultado positivo, porque es la primera alternativa probada, y porque tiene éxito en la búsqueda de la cadena analizada.</p>\n",
    "<p><strong>Ejemplo</strong>:</p>\n",
    "<p>foo(bar|foo) --&gt; encuentra las cadenas 'foobar' o 'foofoo'.</p>\n",
    "<h3 id=\"Metacaracteres---subexpresiones\">Metacaracteres - subexpresiones<a class=\"anchor-link\" href=\"#Metacaracteres---subexpresiones\">&#182;</a></h3><p>La construcción ( ... ) también puede ser empleada para definir subexpresiones de <a href=\"https://es.wikipedia.org/wiki/Expresi%C3%B3n_regular\">expresiones regulares</a>.</p>\n",
    "<p><strong>Ejemplos</strong>:</p>\n",
    "<p>(foobar){10} --&gt; encuentra cadenas que contienen 8, 9 o 10 instancias de 'foobar'</p>\n",
    "<p>foob([0-9]|a+)r --&gt; encuentra 'foob0r', 'foob1r' , 'foobar', 'foobaar', 'foobaar' etc.</p>\n",
    "<h3 id=\"Metacaracteres---memorias-(backreferences)\">Metacaracteres - memorias (backreferences)<a class=\"anchor-link\" href=\"#Metacaracteres---memorias-(backreferences)\">&#182;</a></h3><p>Los metacaracteres \\1 a \\9 son interpretados como memorias. \\<n> encuentra la subexpresión previamente encontrada #<n>.</p>\n",
    "<p><strong>Ejemplos</strong>:</p>\n",
    "<p>(.)\\1+  --&gt; encuentra 'aaaa' y 'cc'.</p>\n",
    "<p>(.+)\\1+  --&gt; también encuentra 'abab' y '123123'</p>\n",
    "<p>(['\"]?)(\\d+)\\1 --&gt; encuentra '\"13\" (entre comillas dobles), o '4' (entre comillas simples) o 77 (sin comillas) etc.</p>\n",
    "\n",
    "</div>\n",
    "</div>\n",
    "</div>"
   ]
  },
  {
   "cell_type": "markdown",
   "metadata": {},
   "source": [
    "### Ejercicios en el editor de texto sublime\n",
    "\n",
    "Todos los ejemplos anteriores se pueden probar en cualquier editor de texto que soporte regex. Se puede buscar cualquier palabra, letra, signo de puntuación. En general, con las expresiones regulares se puede encontrar cualquier patrón dentro de un texto.\n",
    "\n",
    "### Probar con Sublime . . .\n"
   ]
  },
  {
   "cell_type": "code",
   "execution_count": 4,
   "metadata": {},
   "outputs": [
    {
     "ename": "SyntaxError",
     "evalue": "unexpected character after line continuation character (<ipython-input-4-5469c657fb5c>, line 2)",
     "output_type": "error",
     "traceback": [
      "\u001b[1;36m  File \u001b[1;32m\"<ipython-input-4-5469c657fb5c>\"\u001b[1;36m, line \u001b[1;32m2\u001b[0m\n\u001b[1;33m    \\b(\\w+(ar|er|ir))\\b\u001b[0m\n\u001b[1;37m                       ^\u001b[0m\n\u001b[1;31mSyntaxError\u001b[0m\u001b[1;31m:\u001b[0m unexpected character after line continuation character\n"
     ]
    }
   ],
   "source": [
    "# Verbos \n",
    "\\b(\\w+(ar|er|ir))\\b"
   ]
  },
  {
   "cell_type": "markdown",
   "metadata": {},
   "source": [
    "## Expresiones Regulares en Python\n",
    "\n",
    "#### Cómo funcionan compile() y searh()?"
   ]
  },
  {
   "cell_type": "code",
   "execution_count": 51,
   "metadata": {},
   "outputs": [
    {
     "name": "stdout",
     "output_type": "stream",
     "text": [
      "Aquí está lo encontrado: .\n"
     ]
    }
   ],
   "source": [
    "import re as regex\n",
    "\n",
    "texto = \"\"\" \n",
    "El término más arcaico fue utilizado desde la antigüedad para indicar la explosión de una estrella enana blanca en sus capas externas, las cuales producen una luminosidad que puede aumentar 100 000 veces su brillo original. Esta luminosidad dura unos pocos días y, en ocasiones, puede ser observada a simple vista desde la Tierra. Al ver un nuevo resplandor en el cielo, los seres humanos creían que había aparecido una nueva estrella. Al año siguiente de la muerte de Fritz Zwicky, en agosto de 1975, apareció una nova que pudo ser observada a simple vista desde la Tierra, durante algunos días. Esta nova surgió de la explosión de una gigante roja.1​\n",
    "\n",
    "Las supernovas producen destellos de luz intensísimos que pueden durar desde varias semanas a varios meses. Se caracterizan por un rápido aumento de la intensidad luminosa hasta alcanzar una magnitud absoluta mayor que el resto de la galaxia. Posteriormente su brillo decrece de forma más o menos suave hasta desaparecer completamente.\n",
    "\"\"\"\n",
    "cadena = \"Hay tiempo de cambio. Cambio y fuera\"\n",
    " \n",
    "#Compilando el patrón que se quiere buscar\n",
    "patron = regex.compile(\"\\.\")\n",
    "\n",
    "#Cómo funciona search?\n",
    "ocurrencia = patron.search(cadena)\n",
    "\n",
    "if ocurrencia:\n",
    "    print (\"Aquí está lo encontrado: \" + ocurrencia.group())\n",
    "else:\n",
    "    print (\"No se encontró el patrón buscado\")"
   ]
  },
  {
   "cell_type": "markdown",
   "metadata": {},
   "source": [
    "#### Cómo funciona match()?"
   ]
  },
  {
   "cell_type": "code",
   "execution_count": 57,
   "metadata": {},
   "outputs": [
    {
     "name": "stdout",
     "output_type": "stream",
     "text": [
      "No se encontró el patrón al comienzo de la cadena\n"
     ]
    }
   ],
   "source": [
    "\n",
    "ocurrencia = patron.match(cadena)\n",
    "\n",
    "if ocurrencia:\n",
    "    print (\"Aquí está lo encontrado: \" + ocurrencia.expand(cadena))\n",
    "else:\n",
    "    print (\"No se encontró el patrón al comienzo de la cadena\")"
   ]
  },
  {
   "cell_type": "markdown",
   "metadata": {},
   "source": [
    "#### Cómo funciona findall()?"
   ]
  },
  {
   "cell_type": "code",
   "execution_count": 64,
   "metadata": {},
   "outputs": [
    {
     "name": "stdout",
     "output_type": "stream",
     "text": [
      "Aquí están todas las ocurrencias del patrón dentro del texto:  ['cambio', 'Cambio']\n"
     ]
    }
   ],
   "source": [
    "ocurrencias = patron.findall(cadena)\n",
    "if len(ocurrencias) > 0:\n",
    "    print (\"Aquí están todas las ocurrencias del patrón dentro del texto: \",  ocurrencias)\n",
    "else:\n",
    "    print (\"No se encontraron ocurrencias del patrón buscado\")\n"
   ]
  },
  {
   "cell_type": "markdown",
   "metadata": {},
   "source": [
    "#### Cómo funciona finditer()?"
   ]
  },
  {
   "cell_type": "code",
   "execution_count": 53,
   "metadata": {},
   "outputs": [
    {
     "name": "stdout",
     "output_type": "stream",
     "text": [
      "Aquí está lo encontrado:  cambio\n",
      "Aquí está lo encontrado:  Cambio\n"
     ]
    }
   ],
   "source": [
    "\n",
    "ocurrencia = patron.finditer(cadena)\n",
    "for i in ocurrencia:\n",
    "    if i:\n",
    "        print (\"Aquí está lo encontrado: \", i.group())\n",
    "    else:\n",
    "        print (\"No se encontró el patrón buscado\")"
   ]
  },
  {
   "cell_type": "markdown",
   "metadata": {},
   "source": [
    "### Qué otros métodos existen? \n",
    "\n",
    "#### group(): Devuelve el texto que coincide con la expresión regular\n",
    "#### start(): Devuelve la posición inicial de la coincidencia\n",
    "#### end(): Devuelve la posición final de la coincidencia\n",
    "#### span(): Devuelve una tupla con la posición incial y final de la coincidencia."
   ]
  },
  {
   "cell_type": "markdown",
   "metadata": {},
   "source": [
    "### Para modificar el texto de entrada\n",
    "\n",
    "#### split(): Divide el texto en una lista, realizando las divisiones del texto en cada lugar donde se cumple con la expresion regular.\n",
    "\n",
    "#### sub(): Encuentra todos los subtextos donde existe una coincidencia con la expresion regular y luego los reemplaza con un nuevo texto.\n",
    "\n",
    "#### subn(): Similar al anterior pero además de devolver el nuevo texto, también devuelve el numero de reemplazos que realizó."
   ]
  },
  {
   "cell_type": "code",
   "execution_count": 14,
   "metadata": {},
   "outputs": [
    {
     "data": {
      "text/plain": [
       "['Hay', 'tiempos', 'de', 'cambio', 'Cambio', 'y', 'fuera']"
      ]
     },
     "execution_count": 14,
     "metadata": {},
     "output_type": "execute_result"
    }
   ],
   "source": [
    "# patron para dividir donde no encuentre un caracter alfanumerico\n",
    "patron = regex.compile(r'\\W+')\n",
    "\n",
    "palabras = patron.split(cadena)\n",
    "\n",
    "palabras"
   ]
  },
  {
   "cell_type": "code",
   "execution_count": 18,
   "metadata": {},
   "outputs": [
    {
     "data": {
      "text/plain": [
       "['Hay tiempos de cambio. Cambio y fuera']"
      ]
     },
     "execution_count": 18,
     "metadata": {},
     "output_type": "execute_result"
    }
   ],
   "source": [
    "# Utilizando la version no compilada de split.# Utiliz \n",
    "regex.split(r'\\n', cadena)  # Dividiendo por linea."
   ]
  },
  {
   "cell_type": "code",
   "execution_count": 38,
   "metadata": {},
   "outputs": [
    {
     "name": "stdout",
     "output_type": "stream",
     "text": [
      " \n",
      "El término más arcaico fue utilizado desde la antigüedad para indicar la explosión de una estrella enana blanca en sus capas externas, las cuales producen una luminosidad que puede aumentar 100 000 veces su brillo original. Esta luminosidad dura unos pocos días y, en ocasiones, puede ser observada a simple vista desde la Tierra. Al ver un nuevo resplandor en el cielo, los seres humanos creían que había aparecido una nueva estrella. Al año siguiente de la muerte de Fritz Zwicky, en agosto de 1975, apareció una nova que pudo ser observada a simple vista desde la Tierra, durante algunos días. Esta nova surgió de la explosión de una gigante roja.1​\n",
      "\n",
      "Las supernovas producen destellos de luz intensísimos que pueden durar desde varias semanas a varios meses. Se caracterizan por un rápido aumento de la intensidad luminosa hasta alcanzar una magnitud absoluta mayor que el resto de la galaxia. Posteriormente su brillo decrece de forma más o menos suave hasta desaparecer completamente.\n",
      "\n",
      "(' \\nEl término más arcaico fue utilizado desde la antigüedad para indicar la explosión de una estrella enana blanca en sus capas externas, las cuales producen una luminosidad que puede aumentar 100 000 veces su brillo original. Esta luminosidad dura unos pocos días y, en ocasiones, puede ser observada a simple vista desde la Tierra. Al ver un nuevo resplandor en el cielo, los seres humanos creían que había aparecido una nueva estrella. Al año siguiente de la muerte de Fritz Zwicky, en agosto de 1975, apareció una nova que pudo ser observada a simple vista desde la Tierra, durante algunos días. Esta nova surgió de la explosión de una gigante roja.1\\u200b\\n\\nLas supernovas producen destellos de luz intensísimos que pueden durar desde varias semanas a varios meses. Se caracterizan por un rápido aumento de la intensidad luminosa hasta alcanzar una magnitud absoluta mayor que el resto de la galaxia. Posteriormente su brillo decrece de forma más o menos suave hasta desaparecer completamente.\\n', 8)\n"
     ]
    }
   ],
   "source": [
    "# Cambiando \"Hay\" o \"de\" por \"Existen\"\n",
    "patron = regex.compile(r'(\\b(\\w*(ar|er|ir))\\b)')\n",
    "#nc = patron.sub(\"Existen\", texto, 1) #Se pueden limitar el número de reemplazos\n",
    "#print(nc)\n",
    "print(texto)\n",
    "nc = patron.subn(r'\\1',texto) #Ahora con subn\n",
    "print(nc)"
   ]
  },
  {
   "cell_type": "markdown",
   "metadata": {},
   "source": [
    "### Funciones no compiladas\n",
    "\n",
    "#### Tienen cierta desventaja en el costo computacional frente a la versión compilada, especialmente cuando hay que hacer llamadas a ellas dentro de ciclos.\n",
    "\n",
    "#### Ejemplos:"
   ]
  },
  {
   "cell_type": "code",
   "execution_count": 55,
   "metadata": {},
   "outputs": [
    {
     "name": "stdout",
     "output_type": "stream",
     "text": [
      "Hay tiempo\n"
     ]
    }
   ],
   "source": [
    "a = regex.search(r'[H|h]a.+ [T|t]iempo(s?)', cadena)\n",
    "print (a.group())"
   ]
  },
  {
   "cell_type": "code",
   "execution_count": 68,
   "metadata": {},
   "outputs": [
    {
     "name": "stdout",
     "output_type": "stream",
     "text": [
      "aaaaa\n"
     ]
    }
   ],
   "source": [
    "cad = 'aaaaaghhggh'\n",
    "b = regex.match(r'a{5}', cad)\n",
    "print (b.group())"
   ]
  },
  {
   "cell_type": "code",
   "execution_count": 89,
   "metadata": {},
   "outputs": [
    {
     "data": {
      "text/plain": [
       "['Hay t']"
      ]
     },
     "execution_count": 89,
     "metadata": {},
     "output_type": "execute_result"
    }
   ],
   "source": [
    "regex.findall(r'[H|h]a.+ [T|t]', cadena)"
   ]
  },
  {
   "cell_type": "code",
   "execution_count": 109,
   "metadata": {},
   "outputs": [
    {
     "name": "stdout",
     "output_type": "stream",
     "text": [
      "Hay t\n"
     ]
    }
   ],
   "source": [
    "iterador = regex.finditer(r'[H|h]a.+ [T|t]', cadena)\n",
    "for i in iterador:\n",
    "    print (i.group())"
   ]
  },
  {
   "cell_type": "markdown",
   "metadata": {},
   "source": [
    "### Banderas de compilación\n",
    "\n",
    "#### Para ingnorar entre mayúsculas y minúsculas (regex.I)\n"
   ]
  },
  {
   "cell_type": "code",
   "execution_count": 111,
   "metadata": {},
   "outputs": [
    {
     "name": "stdout",
     "output_type": "stream",
     "text": [
      "Hay\n"
     ]
    }
   ],
   "source": [
    "a = regex.search(r'hay', cadena, regex.I)\n",
    "print (a.group())"
   ]
  },
  {
   "cell_type": "markdown",
   "metadata": {},
   "source": [
    "#### Para habilitar la búsuqeda en múltiples líneas (regex.M)"
   ]
  },
  {
   "cell_type": "code",
   "execution_count": 126,
   "metadata": {},
   "outputs": [
    {
     "name": "stdout",
     "output_type": "stream",
     "text": [
      "['supernova', 'supernova', 'supernova', 'supernova', 'supernova', 'supernova', 'supernova', 'supernova']\n"
     ]
    }
   ],
   "source": [
    "a = regex.findall(r'supernova', texto, regex.M)\n",
    "print (a)"
   ]
  },
  {
   "cell_type": "markdown",
   "metadata": {},
   "source": [
    "### Expresiones regulares con grupos\n",
    "\n",
    "Es muy útil y necesario cuando se trabaja con expresiones regulares para hacer reemplazos, poder capturar una parte del patrón (a esa parte se le llama grupo) para conservarlo y reemplazar solo una parte del patrón buscado. En python se puede hacer esto y además, se pueden nombrar los grupos de forma nemotécnica para facilitar el uso de las expresiones regulares."
   ]
  },
  {
   "cell_type": "code",
   "execution_count": 132,
   "metadata": {},
   "outputs": [
    {
     "name": "stdout",
     "output_type": "stream",
     "text": [
      " Remanente de la supermeganova de Kepler, SN 1604.\n",
      "Una supermeganova (del latín nova, «nueva») es una explosión estelar que puede manifestarse de forma muy notable, incluso a simple vista, en lugares de la esfera celeste donde antes no se había detectado nada en particular. Por esta razón, a eventos de esta naturaleza se los llamó inicialmente stellae novae («estrellas nuevas») o simplemente novae. Con el tiempo se hizo la distinción entre fenómenos aparentemente similares pero de luminosidad intrínseca muy diferente; los menos luminosos continuaron llamándose novae (novas), en tanto que el término supermeganova fue acuñado por Walter Baade y Fritz Zwicky en 1931 para denominar a los más luminosos agregándoles el prefijo «super-».\n",
      "\n",
      "El término más arcaico fue utilizado desde la antigüedad para indicar la explosión de una estrella enana blanca en sus capas externas, las cuales producen una luminosidad que puede aumentar 100 000 veces su brillo original. Esta luminosidad dura unos pocos días y, en ocasiones, puede ser observada a simple vista desde la Tierra. Al ver un nuevo resplandor en el cielo, los seres humanos creían que había aparecido una nueva estrella. Al año siguiente de la muerte de Fritz Zwicky, en agosto de 1975, apareció una nova que pudo ser observada a simple vista desde la Tierra, durante algunos días. Esta nova surgió de la explosión de una gigante roja.1​\n",
      "\n",
      "Las supermeganovas producen destellos de luz intensísimos que pueden durar desde varias semanas a varios meses. Se caracterizan por un rápido aumento de la intensidad luminosa hasta alcanzar una magnitud absoluta mayor que el resto de la galaxia. Posteriormente su brillo decrece de forma más o menos suave hasta desaparecer completamente.\n",
      "\n",
      "Se han propuesto varios escenarios para su origen. Pueden ser estrellas masivas que ya no pueden desarrollar reacciones termonucleares en su núcleo, y que son incapaces de sostenerse por la presión de degeneración de los electrones, lo que las lleva a contraerse repentinamente (colapsar) y generar, en el proceso, una fuerte emisión de energía. Otro proceso más violento aún, capaz de generar destellos incluso mucho más intensos, puede suceder cuando una enana blanca miembro de un sistema binario cerrado, recibe suficiente masa de su compañera como para superar el límite de Chandrasekhar y proceder a la fusión instantánea de todo su núcleo: esto dispara una explosión termonuclear que expulsa casi todo, si no todo, el material que la formaba.\n",
      "\n",
      "La explosión de supermeganova provoca la expulsión de las capas externas de la estrella por medio de poderosas ondas de choque, enriqueciendo el espacio que la rodea con elementos pesados. Los restos eventualmente componen nubes de polvo y gas. Cuando el frente de onda de la explosión alcanza otras nubes de gas y polvo cercanas, las comprime y puede desencadenar la formación de nuevas nebulosas solares que originan, después de cierto tiempo, nuevos sistemas estelares (quizá con planetas, al estar las nebulosas enriquecidas con los elementos procedentes de la explosión).\n",
      "\n",
      "Estos residuos estelares en expansión se denominan remanentes y pueden tener o no un objeto compacto en su interior. Dicho remanente terminará por diluirse en el medio interestelar al cabo de millones de años. Un ejemplo es RCW 86.\n",
      "\n",
      "Las supermeganovas pueden liberar varias veces 1044 J de energía. Esto ha resultado en la adopción del foe (1044 J) como unidad estándar de energía en el estudio de supermeganovas.\n",
      "\n",
      "El 20 de septiembre de 2016, un astrónomo aficionado llamado Víctor Buso, se convirtió en la primera persona en la historia en fotografiar el nacimiento de una supermeganova a 86 millones de años luz, en la galaxia espiral NGC 613, al explotar la estrella bautizada SN 2016gkg. 2​ \n"
     ]
    }
   ],
   "source": [
    "n_text = regex.sub(r'(super)(nova)', r'\\1mega\\2' ,texto, regex.M)\n",
    "print (n_text)"
   ]
  },
  {
   "cell_type": "markdown",
   "metadata": {},
   "source": [
    "### Nombrando los grupos\n",
    "\n",
    "?P<nombre\\>patron"
   ]
  },
  {
   "cell_type": "code",
   "execution_count": 140,
   "metadata": {},
   "outputs": [
    {
     "name": "stdout",
     "output_type": "stream",
     "text": [
      "super -- nova\n"
     ]
    }
   ],
   "source": [
    "s = regex.search(r'(?P<inicio>super)(?P<final>nova)', texto, regex.M)\n",
    "#print (s.group(1), s.group(2))\n",
    "print (s.group(\"inicio\"), \"--\" ,s.group(\"final\"))"
   ]
  },
  {
   "cell_type": "markdown",
   "metadata": {},
   "source": [
    "# Referencias\n",
    "\n",
    "Jurafsky, D., & Martin, J. H. (2014). Speech and language processing (Vol. 3). London: Pearson.\n",
    "\n",
    "https://docs.python.org/2/library/re.html\n",
    "\n",
    "https://relopezbriega.github.io/blog/2015/07/19/expresiones-regulares-con-python/"
   ]
  },
  {
   "cell_type": "code",
   "execution_count": null,
   "metadata": {
    "collapsed": true
   },
   "outputs": [],
   "source": []
  }
 ],
 "metadata": {
  "kernelspec": {
   "display_name": "Python 3",
   "language": "python",
   "name": "python3"
  },
  "language_info": {
   "codemirror_mode": {
    "name": "ipython",
    "version": 3
   },
   "file_extension": ".py",
   "mimetype": "text/x-python",
   "name": "python",
   "nbconvert_exporter": "python",
   "pygments_lexer": "ipython3",
   "version": "3.6.3"
  }
 },
 "nbformat": 4,
 "nbformat_minor": 2
}
