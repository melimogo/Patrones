{
 "cells": [
  {
   "cell_type": "markdown",
   "metadata": {},
   "source": [
    "<center>\n",
    "<a href=\"http://www.udem.edu.co/\"><img src=\"Escudo.png\"></a>\n",
    "<h1>Reconocimiento de Patrones I</h1>\n",
    "<h3>2018-2</h3>\n",
    "<h3>Taller para el quiz 1</h3>\n",
    "</center>"
   ]
  },
  {
   "cell_type": "markdown",
   "metadata": {},
   "source": [
    "### Resolviendo el problema de extraer todas las palabras terminadas en \"ar\", \"er\", \"ir\""
   ]
  },
  {
   "cell_type": "code",
   "execution_count": 26,
   "metadata": {},
   "outputs": [
    {
     "name": "stdout",
     "output_type": "stream",
     "text": [
      "['Kepler', 'estelar', 'particular', 'Walter', 'denominar', 'indicar', 'aumentar', 'ser', 'ver', 'ser', 'durar', 'alcanzar', 'desaparecer', 'ser', 'desarrollar', 'colapsar', 'generar', 'generar', 'suceder', 'superar', 'Chandrasekhar', 'proceder', 'termonuclear', 'desencadenar', 'estar', 'tener', 'interestelar', 'liberar', 'estándar', 'fotografiar', 'explotar']\n",
      "\n",
      "Hay  31  palabras terminadas en ar, er o ir. Son todas verbos?\n",
      "\n",
      "Finalmente, de las  31  palabras terminadas en ar, er o ir, en el texto de la supernova,  26  son verbos.\n"
     ]
    }
   ],
   "source": [
    "import regex\n",
    "texto = \"\"\" Remanente de la supernova de Kepler, SN 1604.\n",
    "Una supernova (del latín nova, «nueva») es una explosión estelar que puede manifestarse de forma muy notable, incluso a simple vista, en lugares de la esfera celeste donde antes no se había detectado nada en particular. Por esta razón, a eventos de esta naturaleza se los llamó inicialmente stellae novae («estrellas nuevas») o simplemente novae. Con el tiempo se hizo la distinción entre fenómenos aparentemente similares pero de luminosidad intrínseca muy diferente; los menos luminosos continuaron llamándose novae (novas), en tanto que el término supernova fue acuñado por Walter Baade y Fritz Zwicky en 1931 para denominar a los más luminosos agregándoles el prefijo «super-».\n",
    "\n",
    "El término más arcaico fue utilizado desde la antigüedad para indicar la explosión de una estrella enana blanca en sus capas externas, las cuales producen una luminosidad que puede aumentar 100 000 veces su brillo original. Esta luminosidad dura unos pocos días y, en ocasiones, puede ser observada a simple vista desde la Tierra. Al ver un nuevo resplandor en el cielo, los seres humanos creían que había aparecido una nueva estrella. Al año siguiente de la muerte de Fritz Zwicky, en agosto de 1975, apareció una nova que pudo ser observada a simple vista desde la Tierra, durante algunos días. Esta nova surgió de la explosión de una gigante roja.1​\n",
    "\n",
    "Las supernovas producen destellos de luz intensísimos que pueden durar desde varias semanas a varios meses. Se caracterizan por un rápido aumento de la intensidad luminosa hasta alcanzar una magnitud absoluta mayor que el resto de la galaxia. Posteriormente su brillo decrece de forma más o menos suave hasta desaparecer completamente.\n",
    "\n",
    "Se han propuesto varios escenarios para su origen. Pueden ser estrellas masivas que ya no pueden desarrollar reacciones termonucleares en su núcleo, y que son incapaces de sostenerse por la presión de degeneración de los electrones, lo que las lleva a contraerse repentinamente (colapsar) y generar, en el proceso, una fuerte emisión de energía. Otro proceso más violento aún, capaz de generar destellos incluso mucho más intensos, puede suceder cuando una enana blanca miembro de un sistema binario cerrado, recibe suficiente masa de su compañera como para superar el límite de Chandrasekhar y proceder a la fusión instantánea de todo su núcleo: esto dispara una explosión termonuclear que expulsa casi todo, si no todo, el material que la formaba.\n",
    "\n",
    "La explosión de supernova provoca la expulsión de las capas externas de la estrella por medio de poderosas ondas de choque, enriqueciendo el espacio que la rodea con elementos pesados. Los restos eventualmente componen nubes de polvo y gas. Cuando el frente de onda de la explosión alcanza otras nubes de gas y polvo cercanas, las comprime y puede desencadenar la formación de nuevas nebulosas solares que originan, después de cierto tiempo, nuevos sistemas estelares (quizá con planetas, al estar las nebulosas enriquecidas con los elementos procedentes de la explosión).\n",
    "\n",
    "Estos residuos estelares en expansión se denominan remanentes y pueden tener o no un objeto compacto en su interior. Dicho remanente terminará por diluirse en el medio interestelar al cabo de millones de años. Un ejemplo es RCW 86.\n",
    "\n",
    "Las supernovas pueden liberar varias veces 1044 J de energía. Esto ha resultado en la adopción del foe (1044 J) como unidad estándar de energía en el estudio de supernovas.\n",
    "\n",
    "El 20 de septiembre de 2016, un astrónomo aficionado llamado Víctor Buso, se convirtió en la primera persona en la historia en fotografiar el nacimiento de una supernova a 86 millones de años luz, en la galaxia espiral NGC 613, al explotar la estrella bautizada SN 2016gkg. 2​ \"\"\"\n",
    "\n",
    "\n",
    "#texto = \"Argumentar no siempre es beneficioso. Resulta dificil creer, pero es así, a veces hay que ir y ver hasta terminar\"\n",
    "\n",
    "#Tokenizando con split y expresiones regulares\n",
    "new_text = regex.split('\\.|,| |\"|\\?|¿|!|;|:|\\.\\.\\.|\\(|\\)|<|>', texto)\n",
    "#print (new_text)\n",
    "verbos = []\n",
    "pattern = regex.compile(\"\\w+(ar|er)$|[\\w+]?(ir)$\")\n",
    "for word in new_text:\n",
    "    ocurrencia = pattern.search(word)\n",
    "    if ocurrencia:\n",
    "        verbos.append(ocurrencia.group())\n",
    "\n",
    "print (verbos)\n",
    "print (\"\\nHay \", len(verbos), \" palabras terminadas en ar, er o ir. Son todas verbos?\")\n",
    "\n",
    "\n",
    "salida = open(\"palabras_terminadas_en_ar_er_ir.txt\", \"w\")\n",
    "\n",
    "no_verbos = [\"Kepler\", \"Walter\", \"estándar\", \"interestelar\", \"termonuclear\"]\n",
    "cuenta_verbos = 0\n",
    "\n",
    "for w in verbos:\n",
    "    if w in no_verbos:\n",
    "        continue\n",
    "    else:\n",
    "        salida.write(w+'\\n')\n",
    "        cuenta_verbos += 1\n",
    "salida.close()\n",
    "\n",
    "print(\"\\nFinalmente, de las \", len(verbos), \" palabras terminadas en ar, er o ir, en el texto de la supernova, \", cuenta_verbos, \" son verbos.\")"
   ]
  },
  {
   "cell_type": "markdown",
   "metadata": {},
   "source": [
    "### Haciendo operaciones con matrices en Python con numpy"
   ]
  },
  {
   "cell_type": "code",
   "execution_count": 36,
   "metadata": {},
   "outputs": [
    {
     "name": "stdout",
     "output_type": "stream",
     "text": [
      "dimensión de A:  (3, 2)\n",
      "dimensión de B:  (2, 3)\n",
      "A=\n",
      " [[1 3]\n",
      " [4 6]\n",
      " [2 5]]\n",
      "\n",
      "B=\n",
      " [[1 5 2]\n",
      " [4 2 2]]\n",
      "\n",
      "AxB=\n",
      " [[13 11  8]\n",
      " [28 32 20]\n",
      " [22 20 14]]\n"
     ]
    }
   ],
   "source": [
    "import numpy as np\n",
    "import matplotlib.pyplot as plt\n",
    "\n",
    "A = np.array([[1,3],[4,6],[2,5]])\n",
    "B = np.array([[1,5,2],[4,2,2]])\n",
    "\n",
    "#Imprimiendo las dimensiones de A y de B\n",
    "print(\"dimensión de A: \", A.shape)\n",
    "print(\"dimensión de B: \", B.shape)\n",
    "\n",
    "#Imprimiendo las matrices A y B\n",
    "print(\"A=\\n\", A)\n",
    "print(\"\\nB=\\n\", B)\n",
    "\n",
    "#Imprimiendo el producto matricial AxB\n",
    "print(\"\\nAxB=\\n\", np.dot(A,B))"
   ]
  },
  {
   "cell_type": "code",
   "execution_count": 37,
   "metadata": {},
   "outputs": [
    {
     "data": {
      "text/plain": [
       "21.0"
      ]
     },
     "execution_count": 37,
     "metadata": {},
     "output_type": "execute_result"
    }
   ],
   "source": [
    "#Calculando la media de la columna dos de AXB\n",
    "\n",
    "np.mean(np.dot(A,B)[:,1])"
   ]
  },
  {
   "cell_type": "code",
   "execution_count": 38,
   "metadata": {},
   "outputs": [
    {
     "data": {
      "text/plain": [
       "array([21., 21., 14.])"
      ]
     },
     "execution_count": 38,
     "metadata": {},
     "output_type": "execute_result"
    }
   ],
   "source": [
    "#Calculando el vector de medias de cada una de las columnas de la matriz AXB\n",
    "np.mean(np.dot(A,B), axis=0)"
   ]
  },
  {
   "cell_type": "code",
   "execution_count": 39,
   "metadata": {},
   "outputs": [
    {
     "name": "stdout",
     "output_type": "stream",
     "text": [
      "\n",
      "Matriz var-cov de X=\n",
      " [[ 6.33333333 11.33333333 10.33333333]\n",
      " [11.33333333 37.33333333 21.33333333]\n",
      " [10.33333333 21.33333333 17.33333333]]\n"
     ]
    }
   ],
   "source": [
    "#Calculando la matriz de varianzas y covarianzas de los datos de la matriz X = AXB\n",
    "X = np.dot(A,B)\n",
    "var_cov = np.cov(X)\n",
    "print(\"\\nMatriz var-cov de X=\\n\", var_cov)"
   ]
  },
  {
   "cell_type": "code",
   "execution_count": 46,
   "metadata": {},
   "outputs": [
    {
     "data": {
      "image/png": "[encoded data removed]",
      "text/plain": [
       "<Figure size 432x288 with 1 Axes>"
      ]
     },
     "metadata": {},
     "output_type": "display_data"
    }
   ],
   "source": [
    "#Graficando funciones simples en Python\n",
    "#Función sigmoidal\n",
    "\n",
    "def sigmoidal(x):\n",
    "    s = 1/(1+np.exp(-x))\n",
    "    return s\n",
    "\n",
    "x = np.linspace(-10,10,100)\n",
    "y = sigmoidal(x)\n",
    "plt.plot(x,y)\n",
    "plt.title(\"Función sigmoidal\")\n",
    "plt.ylabel(\"y = 1/(1+np.exp(-x))\")\n",
    "plt.xlabel(\"x\")\n",
    "plt.show()"
   ]
  },
  {
   "cell_type": "code",
   "execution_count": null,
   "metadata": {
    "collapsed": true
   },
   "outputs": [],
   "source": []
  }
 ],
 "metadata": {
  "kernelspec": {
   "display_name": "Python 3",
   "language": "python",
   "name": "python3"
  },
  "language_info": {
   "codemirror_mode": {
    "name": "ipython",
    "version": 3
   },
   "file_extension": ".py",
   "mimetype": "text/x-python",
   "name": "python",
   "nbconvert_exporter": "python",
   "pygments_lexer": "ipython3",
   "version": "3.6.1"
  }
 },
 "nbformat": 4,
 "nbformat_minor": 2
}
