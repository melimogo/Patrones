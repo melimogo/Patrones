{
 "cells": [
  {
   "cell_type": "markdown",
   "metadata": {
    "collapsed": true
   },
   "source": [
    "Cargar Archivos"
   ]
  },
  {
   "cell_type": "code",
   "execution_count": 15,
   "metadata": {},
   "outputs": [],
   "source": [
    "import numpy as np\n",
    "import matplotlib.pyplot as plt\n",
    "\n",
    "f = open(\"texto.txt\",'r')\n",
    "lista = []\n",
    "for w in f:\n",
    "    #print(w)\n",
    "    w = w[:-1]\n",
    "    lista += w.split(\" \")\n",
    "#print(lista)\n",
    "#print(\"__________________________________________\")\n"
   ]
  },
  {
   "cell_type": "code",
   "execution_count": null,
   "metadata": {},
   "outputs": [],
   "source": [
    "\n",
    "# Eliminar puntuación \n",
    "new_list = []\n",
    "carac = ['.',',','(',')',';']\n",
    "for p in lista:\n",
    "    if len(p) > 0 and p[-1] in carac:\n",
    "        p = p[:-1]\n",
    "    if len(p) > 0 and p[0] in carac:\n",
    "        p = p[1:]\n",
    "        \n",
    "    new_list.append(p)\n",
    "print(new_list)\n"
   ]
  },
  {
   "cell_type": "code",
   "execution_count": null,
   "metadata": {},
   "outputs": [],
   "source": [
    "# Buscar # de verbos terminados en ar, er ir\n",
    "verbos = []\n",
    "verb = ['ar','er','ir']\n",
    "ar = 0\n",
    "er = 0\n",
    "ir = 0\n",
    "for p in new_list:\n",
    "    if len(p) > 0 and p[-2:] in verb: \n",
    "        verbos.append(p)\n",
    "        if p[-2:] == 'ar':\n",
    "            ar += 1\n",
    "        if p[-2:] == 'er':\n",
    "            er += 1\n",
    "        if p[-2:] == 'ir':\n",
    "            ir += 1\n",
    "print(verbos)\n",
    "print('El número de verbos terminados \\nar es: {} \\ner son: {} \\nir son: {}'.format(ar,er,ir))"
   ]
  },
  {
   "cell_type": "code",
   "execution_count": null,
   "metadata": {},
   "outputs": [],
   "source": [
    "\n",
    "# Graficar numero de caracteres por palabras. \n",
    "cont = 0\n",
    "Mayor = 0\n",
    "for p in new_list:\n",
    "    if len(p) > Mayor:\n",
    "        Mayor = len(p)\n",
    "#print(Mayor)\n",
    "cantidad = np.zeros(Mayor)\n",
    "for p in new_list:\n",
    "    cantidad[len(p)-1]+=1\n",
    "print(cantidad)\n",
    "\n",
    "plt.hist(cantidad)\n",
    "plt.show()\n"
   ]
  },
  {
   "cell_type": "code",
   "execution_count": 18,
   "metadata": {},
   "outputs": [
    {
     "name": "stdout",
     "output_type": "stream",
     "text": [
      "{0, 1, 2, 3, 4, 5}\n"
     ]
    }
   ],
   "source": [
    "# Estructuras de datos en python\n",
    "tupla = [2,3,'fd']\n",
    "lista = [3,4]\n",
    "dicc = {\"clave\":\"Valor\",\"123\":\"mel\",\"134\":\"juan\"} #clave, valor\n",
    "\n",
    "dicc.keys()\n",
    "dicc.values()\n",
    "\n",
    "\n",
    "#cambiar los valores de los diccionarios\n",
    "\n",
    "conjunto = {0,1,2,3,4,5}\n",
    "conjunto.add(3)\n",
    "print(conjunto)"
   ]
  },
  {
   "cell_type": "code",
   "execution_count": 24,
   "metadata": {},
   "outputs": [
    {
     "name": "stdout",
     "output_type": "stream",
     "text": [
      "[2, 5, 'DevCode', 1.2, 5, 50]\n",
      "[2, 5, 'DevCode', 1.2, 5, 50, 20]\n",
      "[5, 'DevCode', 1.2, 5, 50, 20]\n",
      "[5, 'DevCode', 5, 50, 20]\n",
      "2\n",
      "[20, 50, 5, 'DevCode', 5]\n"
     ]
    }
   ],
   "source": [
    "# Listas\n",
    "# Guardar cualquier tipo de valor\n",
    "lista = [2, 5, 'DevCode', 1.2, 5]\n",
    "\n",
    "# Métodos\n",
    "# append\n",
    "lista.append(50)\n",
    "print(lista)\n",
    "\n",
    "# extend\n",
    "lista.extend([20])\n",
    "print(lista)\n",
    "\n",
    "#Remove\n",
    "lista.remove(2)\n",
    "print(lista)\n",
    "\n",
    "#index\n",
    "lista.remove(1.2)\n",
    "print(lista)\n",
    "\n",
    "#count\n",
    "print(lista.count(5))\n",
    "\n",
    "#Reverse\n",
    "lista.reverse()\n",
    "print(lista)"
   ]
  },
  {
   "cell_type": "code",
   "execution_count": 27,
   "metadata": {},
   "outputs": [],
   "source": [
    "# tuplas\n",
    "# es una lista inmutable \n",
    "\n",
    "tupla = (3,4,5,5)\n",
    "\n",
    "#tupla[4] = 0\n",
    "#tupla.append(3)"
   ]
  },
  {
   "cell_type": "code",
   "execution_count": 46,
   "metadata": {},
   "outputs": [
    {
     "data": {
      "text/plain": [
       "False"
      ]
     },
     "execution_count": 46,
     "metadata": {},
     "output_type": "execute_result"
    }
   ],
   "source": [
    "# conjuntos\n",
    "# mutable\n",
    "# set() conjunto vacio\n",
    "s = {'rojo','verde','azul',4,'verde'}\n",
    "b = {2, 4, 6, 8}\n",
    "#len(s) #numero de elementoss\n",
    "#x in s #si el elemento está en s\n",
    "#x not in s #no está en s\n",
    "#s.add(2) # agregar elemntos\n",
    "#s.remove(4) #elimina\n",
    "\n",
    "#operaciones de conjuntos\n",
    "# intersección\n",
    "s & b\n",
    "\n",
    "#union\n",
    "s | b\n",
    "\n",
    "#diferencia \n",
    "s - b\n",
    "\n",
    "# diferencia simetrica\n",
    "s ^ b\n",
    "\n",
    "#es subconjunto\n",
    "s < b\n",
    "\n",
    "# es igual o subconjunto\n",
    "s <= b"
   ]
  },
  {
   "cell_type": "code",
   "execution_count": null,
   "metadata": {
    "collapsed": true
   },
   "outputs": [],
   "source": [
    "# diccionarios\n",
    "# identificar elementos con claves\n",
    "diccionario = {'nombre' : 'Carlos', 'edad' : 22, 'cursos': ['Python','Django','JavaScript'] }\n",
    "\n",
    "# Métodos del diccionario\n",
    "#dict() # crea un dicionario\n",
    "# zip() #recibe dos elementos, lista, tupla o cadena y los relaciona\n",
    "# items() #devuelve una lista de tuplas\n",
    "# key() #devuelve las claves de los elementos\n",
    "# values() #devuelve los valores \n",
    "# clear() #Elimina los items del diccionario\n",
    "# copy() #devuelve una copia del diccionariogi"
   ]
  },
  {
   "cell_type": "code",
   "execution_count": 98,
   "metadata": {},
   "outputs": [
    {
     "data": {
      "text/plain": [
       "array([[-4.66666667],\n",
       "       [ 4.33333333]])"
      ]
     },
     "execution_count": 98,
     "metadata": {},
     "output_type": "execute_result"
    }
   ],
   "source": [
    "# multiplicación de matrices\n",
    "\n",
    "alpha = np.array([4,3,2])\n",
    "beta = np.array([2,3,1])\n",
    "x = np.array([[1,2],[4,5],[3,5]])\n",
    "y = np.array([[4],[3]])\n",
    "a = np.array([[1,2],[4,5]])\n",
    "\n",
    "#____________Vectores_______________\n",
    "#suma\n",
    "#alpha + beta\n",
    "\n",
    "#resta\n",
    "#alpha - beta\n",
    "\n",
    "# multipicar escalar\n",
    "#alpha * 3\n",
    "\n",
    "# producto escalar de dos vectores\n",
    "#alpha @ beta\n",
    "#np.dot(alpha,beta)\n",
    "\n",
    "# norma de un vector\n",
    "#np.linalg.norm(beta)\n",
    "#np.sqrt(beta @ beta)\n",
    "\n",
    "#____________Matrices________________\n",
    "# suma \n",
    "#(x + y)\n",
    "\n",
    "# resta\n",
    "#x - y\n",
    "\n",
    "#  multiplicando matrices por escales\n",
    "#x * 2\n",
    "\n",
    "\n",
    "# multiplicación de matrices\n",
    "#x @ y\n",
    "\n",
    "\n",
    "# Matriz identidad\n",
    "#np.eye(2)\n",
    "\n",
    "# determinante de una matriz\n",
    "#np.linalg.det(a)\n",
    "\n",
    "# inversa de una matriz\n",
    "#np.linalg.inv(a)\n",
    "\n",
    "# transpuesta de una matriz\n",
    "#np.transpose(x)\n",
    "\n",
    "# resolver sistema de ecuaciones\n",
    "np.linalg.solve(a,y)"
   ]
  }
 ],
 "metadata": {
  "kernelspec": {
   "display_name": "Python 3",
   "language": "python",
   "name": "python3"
  },
  "language_info": {
   "codemirror_mode": {
    "name": "ipython",
    "version": 3
   },
   "file_extension": ".py",
   "mimetype": "text/x-python",
   "name": "python",
   "nbconvert_exporter": "python",
   "pygments_lexer": "ipython3",
   "version": "3.6.1"
  }
 },
 "nbformat": 4,
 "nbformat_minor": 2
}
