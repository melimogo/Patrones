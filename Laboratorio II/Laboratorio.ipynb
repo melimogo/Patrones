{
 "cells": [
  {
   "cell_type": "code",
   "execution_count": 8,
   "metadata": {},
   "outputs": [],
   "source": [
    "%matplotlib inline\n",
    "from PIL import Image            \n",
    "import numpy as np                \n",
    "import matplotlib.pyplot as plt   \n",
    "\n",
    "from tkinter import *\n",
    "#from PIL import ImageTk\n",
    "from tkinter import filedialog\n",
    "import os\n",
    "\n",
    "from skimage import io\n",
    "from skimage.transform import resize\n",
    "from skimage import color"
   ]
  },
  {
   "cell_type": "code",
   "execution_count": 9,
   "metadata": {},
   "outputs": [
    {
     "ename": "AttributeError",
     "evalue": "type object 'Image' has no attribute 'open'",
     "output_type": "error",
     "traceback": [
      "\u001b[1;31m---------------------------------------------------------------------------\u001b[0m",
      "\u001b[1;31mAttributeError\u001b[0m                            Traceback (most recent call last)",
      "\u001b[1;32m<ipython-input-9-50f0b593d523>\u001b[0m in \u001b[0;36m<module>\u001b[1;34m()\u001b[0m\n\u001b[0;32m      1\u001b[0m \u001b[1;31m# imagen a utilizar\u001b[0m\u001b[1;33m\u001b[0m\u001b[1;33m\u001b[0m\u001b[0m\n\u001b[1;32m----> 2\u001b[1;33m \u001b[0mukelele\u001b[0m \u001b[1;33m=\u001b[0m \u001b[0mImage\u001b[0m\u001b[1;33m.\u001b[0m\u001b[0mopen\u001b[0m\u001b[1;33m(\u001b[0m\u001b[1;34m\"img/ukelele.jpeg\"\u001b[0m\u001b[1;33m)\u001b[0m\u001b[1;33m\u001b[0m\u001b[0m\n\u001b[0m\u001b[0;32m      3\u001b[0m \u001b[1;33m\u001b[0m\u001b[0m\n\u001b[0;32m      4\u001b[0m \u001b[0mplt\u001b[0m\u001b[1;33m.\u001b[0m\u001b[0mimshow\u001b[0m\u001b[1;33m(\u001b[0m\u001b[0mnp\u001b[0m\u001b[1;33m.\u001b[0m\u001b[0masarray\u001b[0m\u001b[1;33m(\u001b[0m\u001b[0mukelele\u001b[0m\u001b[1;33m)\u001b[0m\u001b[1;33m)\u001b[0m\u001b[1;33m\u001b[0m\u001b[0m\n\u001b[0;32m      5\u001b[0m \u001b[1;33m\u001b[0m\u001b[0m\n",
      "\u001b[1;31mAttributeError\u001b[0m: type object 'Image' has no attribute 'open'"
     ]
    }
   ],
   "source": [
    "# imagen a utilizar\n",
    "ukelele = Image.open(\"img/ukelele.jpeg\")\n",
    "\n",
    "plt.imshow(np.asarray(ukelele))\n",
    "\n",
    "uke_gris = ukelele.convert('L')\n",
    "#I_gris.show()\n",
    "plt.imshow(np.asarray(uke_gris), cmap='gray')\n",
    "plt.show()\n",
    "print (uke_gris.size, uke_gris.mode, uke_gris.format)\n",
    "Img_uke = np.asarray(uke_gris,dtype=np.float32)"
   ]
  },
  {
   "cell_type": "code",
   "execution_count": null,
   "metadata": {},
   "outputs": [],
   "source": [
    "def umbral(img, umbral):\n",
    "    \n",
    "    filas = np.size(img,0)\n",
    "    columnas = np.size(img,1)\n",
    "    \n",
    "    new_Img = np.zeros((filas,columnas))\n",
    "\n",
    "    for i in range(0,filas):\n",
    "        for j in range(0, columnas):\n",
    "            if img[i,j] <= umbral:\n",
    "                new_Img[i,j] = 0\n",
    "            else:\n",
    "                new_Img[i,j] = 255\n",
    "\n",
    "    return new_Img\n"
   ]
  },
  {
   "cell_type": "code",
   "execution_count": null,
   "metadata": {},
   "outputs": [],
   "source": [
    "def crearConjuntoS(ee):\n",
    "    S = set()\n",
    "    for i in range(np.size(ee,0)):\n",
    "        for j in range(np.size(ee,1)):\n",
    "            if ee[i][j] == 1:\n",
    "                S.add((i,j))\n",
    "    return S\n",
    "\n",
    "def crearConjuntoX(img_bin):\n",
    "    filas = np.size(img_bin,0)\n",
    "    columnas = np.size(img_bin,1)\n",
    "    X = set()\n",
    "    for i in range(0,filas):\n",
    "        for j in range(0, columnas):\n",
    "            if(img_bin[i,j] == 255):\n",
    "                X.add((i,j))\n",
    "    return X, filas, columnas\n",
    "\n",
    "def crearMatriz(conjunto, filas, columnas):\n",
    "    matrix = np.zeros((filas + 3,columnas + 3))\n",
    "    for c in conjunto:\n",
    "        matrix[c[0], c[1]] = 255\n",
    "\n",
    "    return matrix"
   ]
  },
  {
   "cell_type": "code",
   "execution_count": null,
   "metadata": {},
   "outputs": [],
   "source": [
    "def dilatacion(img_bin,ee):\n",
    "    X, filas, columnas = crearConjuntoX(img_bin)\n",
    "    S = crearConjuntoS(ee)\n",
    "    d = set()\n",
    "    sList = list(S)\n",
    "    for xs in X:\n",
    "        d.add( ( xs[0] + sList[1][0] , xs[1] + sList[1][1] ))\n",
    "        d.add( ( xs[0] + sList[0][0] , xs[1] + sList[0][1] ))\n",
    "    matrizDilatada = crearMatriz(d, filas, columnas)\n",
    "    return matrizDilatada"
   ]
  },
  {
   "cell_type": "code",
   "execution_count": null,
   "metadata": {},
   "outputs": [],
   "source": [
    "def erosion(img_bin, ee):\n",
    "    X, filas, columnas = crearConjuntoX(img_bin)\n",
    "    S = crearConjuntoS(ee)\n",
    "    e = set()\n",
    "    sList = list(S)\n",
    "    for xs in X:\n",
    "        a = ( xs[0] + sList[1][0] , xs[1] + sList[1][1] )\n",
    "        if (a in X):\n",
    "            b = ( xs[0] + sList[0][0] , xs[1] + sList[0][1] )\n",
    "            if (b in X):\n",
    "                e.add(xs)\n",
    "    matrizErocionada = crearMatriz(e, filas, columnas)\n",
    "    return matrizErocionada"
   ]
  },
  {
   "cell_type": "code",
   "execution_count": null,
   "metadata": {},
   "outputs": [],
   "source": [
    "def apertura(img_bin, ee):\n",
    "    matrizApertura = dilatacion(erosion(img_bin, ee),ee)\n",
    "    return matrizApertura"
   ]
  },
  {
   "cell_type": "code",
   "execution_count": null,
   "metadata": {},
   "outputs": [],
   "source": [
    "def cierre(img_bin, ee):\n",
    "    matrizcierre = erosion(dilatacion(img_bin, ee),ee)\n",
    "    return matrizcierre"
   ]
  },
  {
   "cell_type": "code",
   "execution_count": null,
   "metadata": {},
   "outputs": [],
   "source": [
    "def bordes(img_bin, ee):\n",
    "    imgApertura = apertura(img_bin, ee)\n",
    "    imgErosion = erosion(img_bin, ee)\n",
    "    f,c = imgErosion.shape\n",
    "    imgBordes = np.zeros((f,c))\n",
    "    for i in range(0,f-1):\n",
    "        for j in range(0,c):\n",
    "            imgBordes[i][j] = imgApertura[i][j] - imgErosion[i][j]\n",
    "    return imgBordes"
   ]
  },
  {
   "cell_type": "code",
   "execution_count": null,
   "metadata": {},
   "outputs": [],
   "source": [
    "## Datos de la imagen\n",
    "X = Img_uke\n",
    "ee = np.array([[0,1,0],[1,1,1],[0,1,0]])\n",
    "\n",
    "\n",
    "## Datos de prueba\n",
    "#X_ = np.matrix([[0, 1, 0, 0, 0], [0, 0, 1, 0, 0], [1, 1, 0, 0, 0],[1, 1, 0, 0, 0], [0, 0, 0, 0, 0]]) \n",
    "#ee = np.array([[1,1]])\n",
    "\n",
    "# umbral definido para la binarización de la imagen\n",
    "img_bin = umbral(X,130)\n",
    "\n",
    "# Metodos de pruebas\n",
    "#img_dilatacion = Image.fromarray(dilatacion(img_bin,ee).astype(np.uint8))\n",
    "#img_erosion = Image.fromarray(erosion(img_bin,ee).astype(np.uint8))\n",
    "#img_apertura = Image.fromarray(apertura(img_bin, ee).astype(np.uint8))\n",
    "#img_cierre = Image.fromarray(cierre(img_bin, ee).astype(np.uint8))\n",
    "img_bordes = Image.fromarray(bordes(img_bin, ee).astype(np.uint8))\n",
    "\n",
    "\n",
    "plt.subplot(121)\n",
    "plt.imshow(img_bin,cmap='gray')\n",
    "plt.title('Imagen binarizada')\n",
    "plt.axis('off') \n",
    "\n",
    "\n",
    "'''\n",
    "plt.subplot(122)\n",
    "plt.imshow(img_dilatacion, cmap='gray')\n",
    "plt.title('Imagen dilatada')\n",
    "plt.axis('off')\n",
    "\n",
    "\n",
    "\n",
    "plt.subplot(122)\n",
    "plt.imshow(img_erosion, cmap='gray')\n",
    "plt.title('Imagen Erosionada')\n",
    "plt.axis('off')\n",
    "\n",
    "plt.subplot(122)\n",
    "plt.imshow(img_apertura, cmap='gray')\n",
    "plt.title('Imagen Apertura')\n",
    "plt.axis('off')\n",
    "\n",
    "\n",
    "plt.subplot(122)\n",
    "plt.imshow(img_cierre, cmap='gray')\n",
    "plt.title('Imagen cierre')\n",
    "plt.axis('off')\n",
    "'''\n",
    "\n",
    "plt.subplot(122)\n",
    "plt.imshow(img_bordes, cmap='gray')\n",
    "plt.title('Imagen extración de bordes')\n",
    "plt.axis('off')"
   ]
  },
  {
   "cell_type": "code",
   "execution_count": null,
   "metadata": {},
   "outputs": [],
   "source": [
    "def openfn():\n",
    "    global filename\n",
    "    filename = filedialog.askopenfilename(title='open')\n",
    "    return filename\n",
    "def open_img():\n",
    "    global img\n",
    "    x = openfn()\n",
    "    img = Image.open(x)\n",
    "    img = img.resize((300, 250), Image.ANTIALIAS)\n",
    "    img = ImageTk.PhotoImage(img)\n",
    "    panel = Label(root, image=img)\n",
    "    panel.image = img\n",
    "    panel.pack()\n",
    "def derivate_img():\n",
    "    s = float(e.get())\n",
    "    img_bin = umbral(X,130)\n",
    "    img2 = Image.open('C:/Users/s112e1/borde.jpg')\n",
    "    img2 = img2.resize((300, 250), Image.ANTIALIAS)\n",
    "    img2 = ImageTk.PhotoImage(img2)\n",
    "    panel = Label(root, image=img2)\n",
    "    panel.image = img2\n",
    "    panel.pack()"
   ]
  },
  {
   "cell_type": "code",
   "execution_count": null,
   "metadata": {},
   "outputs": [],
   "source": [
    "root = Tk()\n",
    "root.geometry(\"550x300+300+150\")\n",
    "root.resizable(width=True, height=True)\n",
    "frame = Frame(root)\n",
    "frame.pack()\n",
    "btn = Button(frame, text='Abrir imagen', command=open_img).pack(side=TOP)\n",
    "btn7 = Button(frame, text='Imagen binaria', command=derivate_img).pack(side=LEFT)\n",
    "btn2 = Button(frame, text='Dilatación', command=derivate_img).pack(side=LEFT)\n",
    "btn3 = Button(frame, text='Erosión', command=derivate_img).pack(side=LEFT)\n",
    "btn4 = Button(frame, text='Apertura', command=derivate_img).pack(side=LEFT)\n",
    "btn5 = Button(frame, text='Cierre', command=derivate_img).pack(side=LEFT)\n",
    "btn6 = Button(frame, text='Extracción de bordes', command=derivate_img).pack(side=LEFT)\n",
    "root.mainloop()\n"
   ]
  }
 ],
 "metadata": {
  "kernelspec": {
   "display_name": "Python 3",
   "language": "python",
   "name": "python3"
  },
  "language_info": {
   "codemirror_mode": {
    "name": "ipython",
    "version": 3
   },
   "file_extension": ".py",
   "mimetype": "text/x-python",
   "name": "python",
   "nbconvert_exporter": "python",
   "pygments_lexer": "ipython3",
   "version": "3.6.5"
  }
 },
 "nbformat": 4,
 "nbformat_minor": 2
}
